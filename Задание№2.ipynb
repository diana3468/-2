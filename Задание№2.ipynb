{
  "nbformat": 4,
  "nbformat_minor": 0,
  "metadata": {
    "colab": {
      "name": "Задание№2.ipynb",
      "provenance": [],
      "collapsed_sections": []
    },
    "kernelspec": {
      "name": "python3",
      "display_name": "Python 3"
    },
    "language_info": {
      "name": "python"
    }
  },
  "cells": [
    {
      "cell_type": "code",
      "execution_count": null,
      "metadata": {
        "id": "OfGJiJCcY6r8"
      },
      "outputs": [],
      "source": [
        ""
      ]
    },
    {
      "cell_type": "markdown",
      "source": [
        "### <u> Формула нормального распределения:<u>  $\\frac{1}{\\sigma\\sqrt{2\\pi}}\n",
        "   \\exp\\left(-\\frac{(x-\\mu)^2}{2\\sigma^2}\\right)$\n",
        "\n",
        "### <u> Греческий алфавит:<u> \n",
        "\n",
        "| Прописные  |Строчные                   |Название    |\n",
        "|:--------:  |:---------:                |:----------:|\n",
        "| A          | $\\alpha$                  |      альфа |\n",
        "|B           |$\\beta$                    |бета        |\n",
        "|$\\Gamma$    |$\\gamma$                   |гамма       |\n",
        "| $\\Delta$   |$\\delta$                   |дельта      |\n",
        "|E           |$\\epsilon$, $\\varepsilon$  |эпсилон     |\n",
        "|Z           |$\\zeta$                    |дзета       |\n",
        "|H           |$\\eta$                     |эта         |\n",
        "|$\\Theta$    |$\\theta$, $\\vartheta$      |тета        |\n",
        "|I           |$\\iota$                    |йота        |\n",
        "|K           |$\\kappa$, $\\varkappa$      |каппа       |\n",
        "|$\\Lambda$   |$\\lambda$                  |лямбда      |\n",
        "|M           |$\\mu$                      |мю          |\n",
        "|N           |$\\nu$                      |ню          |\n",
        "|$\\Xi$       |$\\xi$                      |кси         |\n",
        "|O           |o                          |омикрон     |\n",
        "|$\\Pi$       |$\\pi$                      |пи          |\n",
        "|P           |$\\rho$, $\\varrho$          |ро          |\n",
        "|$\\Sigma$    |$\\sigma$, $\\varsigma$      |сигма       |\n",
        "|T           |$\\tau$                     |тау         |\n",
        "|$\\Upsilon$  |$\\upsilon$                 |ипсилон     |\n",
        "|$\\Phi$      |$\\phi$, $\\varphi$          |фи          |\n",
        "|X           |$\\chi$                     |хи          |\n",
        "|$\\Psi$      |$\\psi$                     |пси         |\n",
        "|$\\Omega$    |$\\omega$                   |омега       |\n",
        "\n",
        "#заголовок первого уровня\n",
        "##заголовок второго уровня\n",
        "###заголовок третьего уровня "
      ],
      "metadata": {
        "id": "uwKaaYhnZAaa"
      }
    },
    {
      "cell_type": "code",
      "source": [
        ""
      ],
      "metadata": {
        "colab": {
          "base_uri": "https://localhost:8080/",
          "height": 234
        },
        "id": "Wa0PWMjGZ5yJ",
        "outputId": "5750368a-d0a6-47ad-a679-6e43a7ab9748"
      },
      "execution_count": 2,
      "outputs": [
        {
          "output_type": "error",
          "ename": "NameError",
          "evalue": "ignored",
          "traceback": [
            "\u001b[0;31m---------------------------------------------------------------------------\u001b[0m",
            "\u001b[0;31mNameError\u001b[0m                                 Traceback (most recent call last)",
            "\u001b[0;32m<ipython-input-2-7cec8ad97954>\u001b[0m in \u001b[0;36m<module>\u001b[0;34m()\u001b[0m\n\u001b[1;32m      1\u001b[0m \u001b[0;34m\u001b[0m\u001b[0m\n\u001b[0;32m----> 2\u001b[0;31m \u001b[0mx\u001b[0m \u001b[0;34m=\u001b[0m \u001b[0mnp\u001b[0m\u001b[0;34m.\u001b[0m\u001b[0marange\u001b[0m\u001b[0;34m(\u001b[0m\u001b[0;36m0\u001b[0m\u001b[0;34m,\u001b[0m \u001b[0;36m5\u001b[0m\u001b[0;34m,\u001b[0m \u001b[0;36m0.1\u001b[0m\u001b[0;34m)\u001b[0m\u001b[0;34m\u001b[0m\u001b[0;34m\u001b[0m\u001b[0m\n\u001b[0m\u001b[1;32m      3\u001b[0m \u001b[0;32mdef\u001b[0m \u001b[0mf\u001b[0m\u001b[0;34m(\u001b[0m\u001b[0mx\u001b[0m\u001b[0;34m)\u001b[0m\u001b[0;34m:\u001b[0m\u001b[0;34m\u001b[0m\u001b[0;34m\u001b[0m\u001b[0m\n\u001b[1;32m      4\u001b[0m     \u001b[0;32mreturn\u001b[0m \u001b[0mx\u001b[0m\u001b[0;34m**\u001b[0m\u001b[0;36m2\u001b[0m\u001b[0;34m\u001b[0m\u001b[0;34m\u001b[0m\u001b[0m\n\u001b[1;32m      5\u001b[0m \u001b[0;34m\u001b[0m\u001b[0m\n",
            "\u001b[0;31mNameError\u001b[0m: name 'np' is not defined"
          ]
        }
      ]
    }
  ]
}